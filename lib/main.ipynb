{
 "cells": [
  {
   "cell_type": "code",
   "execution_count": 1,
   "id": "08e17b55",
   "metadata": {},
   "outputs": [],
   "source": [
    "import requests\n",
    "import time\n",
    "import random\n",
    "import yfinance as yf\n",
    "from add_val import Add_Val\n",
    "from bs4 import BeautifulSoup\n",
    "import pandas as pd\n",
    "import numpy as np"
   ]
  },
  {
   "cell_type": "code",
   "execution_count": null,
   "id": "31f9d4d5",
   "metadata": {},
   "outputs": [],
   "source": [
    "# Data not avaliable on yfiance api\n",
    "ticker_symbol = 'APPL'\n",
    "\n",
    "# Initialize data frames\n",
    "prev_close = []\n",
    "open = []\n",
    "bid =[]\n",
    "ask = []\n",
    "day_range = []\n",
    "range_52 = []\n",
    "volume = []\n",
    "avg_vol = []\n",
    "market_cap = []\n",
    "beta = []\n",
    "pe_ratio = []\n",
    "eps = []\n",
    "one_year_est = []\n",
    "price = []\n",
    "price_close = []\n",
    "\n",
    "# Initialize hash table\n",
    "attr = {}\n",
    "\n",
    "# Initialize data extraction\n",
    "data_value_ext = Add_Val('data-value')\n",
    "text_ext = Add_Val('text')"
   ]
  },
  {
   "cell_type": "code",
   "execution_count": null,
   "id": "78fba2d2",
   "metadata": {},
   "outputs": [
    {
     "name": "stdout",
     "output_type": "stream",
     "text": [
      "Response status: 200\n",
      "Response status 2: 200\n",
      "Success! Value: 213.76\n",
      "Success! Value: 214.70\n",
      "Success! Value: 213.82 x 500\n",
      "Success! Value: 215.97 x 300\n",
      "Success! Value: 213.40 - 215.24\n",
      "Success! Value: 169.21 - 260.10\n",
      "Success! Value: 38,585,030\n",
      "Success! Value: 53,038,719\n",
      "Success! Value: 3.194T\n",
      "Success! Value: 1.20\n",
      "Success! Value: 33.31\n",
      "Success! Value: 6.42\n",
      "Success! Value: 230.62\n"
     ]
    }
   ],
   "source": [
    "def scrape_date():\n",
    "    url = 'https://finance.yahoo.com/quote/AAPL/'\n",
    "    url_plot = 'https://finance.yahoo.com/chart/AAPL#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'\n",
    "\n",
    "    # header to avoid bot detection\n",
    "    headers = {\n",
    "        'User-Agent': 'Mozilla/5.0 (Windows NT 10.0; Win64; x64) AppleWebKit/537.36 (KHTML, like Gecko) Chrome/120.0.0.0 Safari/537.36',\n",
    "        'Accept': 'text/html,application/xhtml+xml,application/xml;q=0.9,image/webp,*/*;q=0.8',\n",
    "        'Accept-Language': 'en-US,en;q=0.5',\n",
    "        'Accept-Encoding': 'gzip, deflate',\n",
    "        'Connection': 'keep-alive',\n",
    "        'Upgrade-Insecure-Requests': '1',\n",
    "    }\n",
    "    \n",
    "    # Add delay to avoid rate limiting\n",
    "    time.sleep(random.uniform(1, 3))\n",
    "\n",
    "    try:\n",
    "        response = requests.get(url, headers=headers, timeout=10)\n",
    "        print(f\"Response status: {response.status_code}\")\n",
    "        \n",
    "        if response.status_code == 200:\n",
    "            # Get data elements from html parse\n",
    "            soup = BeautifulSoup(response.text, 'html.parser')\n",
    "            \n",
    "            prev_close_element = soup.find('fin-streamer', {'data-field': 'regularMarketPreviousClose'})\n",
    "            open_element = soup.find('fin-streamer', {'data-field': 'regularMarketOpen'})\n",
    "            bid_element = soup.find('span', attrs={'title': 'Bid'}).parent.find('span', class_='value yf-1b7pzha')\n",
    "            ask_element = soup.find('span', attrs={'title': 'Ask'}).parent.find('span', class_='value yf-1b7pzha')\n",
    "            day_range_element = soup.find('fin-streamer',{'data-field': 'regularMarketDayRange'})\n",
    "            range_52_element = soup.find('fin-streamer', {'data-field': 'fiftyTwoWeekRange'})\n",
    "            volume_element = soup.find('fin-streamer', {'data-field': 'regularMarketVolume'})\n",
    "            avg_vol_element = soup.find('fin-streamer', {'data-field': 'averageVolume'})\n",
    "            market_cap_element = soup.find('fin-streamer', {'data-field':'marketCap'})\n",
    "            beta_element = soup.find('span', attrs={'title': 'Beta (5Y Monthly)'}).parent.find('span', class_='value yf-1b7pzha')\n",
    "            pe_ratio_element = soup.find('span', attrs={'title': 'PE Ratio (TTM)'}).parent.find('fin-streamer')\n",
    "            eps_element = soup.find('span', attrs={'title': 'EPS (TTM)'}).parent.find('fin-streamer')\n",
    "            one_year_est_element = soup.find('fin-streamer', {'data-field': 'targetMeanPrice'})\n",
    "            \n",
    "            # get data value\n",
    "            data_value_ext.get_val(prev_close_element, 'prev_close', prev_close, attr)\n",
    "            data_value_ext.get_val(open_element, 'open', open, attr)\n",
    "            text_ext.get_val(bid_element, 'bid', bid, attr)\n",
    "            text_ext.get_val(ask_element, 'ask', ask, attr)\n",
    "            data_value_ext.get_val(day_range_element, 'day_range', day_range, attr)\n",
    "            data_value_ext.get_val(range_52_element, 'range_52', range_52, attr)\n",
    "            data_value_ext.get_val(volume_element, 'volume', volume, attr)\n",
    "            data_value_ext.get_val(avg_vol_element, 'avg_vol', avg_vol, attr)\n",
    "            data_value_ext.get_val(market_cap_element, 'market_cap', market_cap, attr)\n",
    "            text_ext.get_val(beta_element, 'beta', beta, attr)\n",
    "            data_value_ext.get_val(pe_ratio_element, 'pe_ratio', pe_ratio, attr)\n",
    "            data_value_ext.get_val(eps_element, 'eps', eps, attr)\n",
    "            data_value_ext.get_val(one_year_est_element, 'one_year_est', one_year_est, attr)\n",
    "\n",
    "        else:\n",
    "            print(f\"Request failed with status {response.status_code}\")\n",
    "            \n",
    "    except requests.exceptions.RequestException as e:\n",
    "        print(f\"Request error: {e}\")"
   ]
  },
  {
   "cell_type": "code",
   "execution_count": null,
   "id": "d5e3169b",
   "metadata": {},
   "outputs": [],
   "source": []
  },
  {
   "cell_type": "code",
   "execution_count": 4,
   "id": "a243414a",
   "metadata": {},
   "outputs": [
    {
     "name": "stdout",
     "output_type": "stream",
     "text": [
      "=== DEBUGGING HASH TABLE ===\n",
      "Keys: ['prev_close', 'open', 'bid', 'ask', 'day_range', 'range_52', 'volume', 'avg_vol', 'market_cap', 'beta', 'pe_ratio', 'eps', 'one_year_est']\n",
      "Values: [['213.76'], ['214.70'], ['213.82 x 500'], ['215.97 x 300'], ['213.40 - 215.24'], ['169.21 - 260.10'], ['38,585,030'], ['53,038,719'], ['3.194T'], ['1.20'], ['33.31'], ['6.42'], ['230.62']]\n",
      "Key-Value pairs: {'prev_close': ['213.76'], 'open': ['214.70'], 'bid': ['213.82 x 500'], 'ask': ['215.97 x 300'], 'day_range': ['213.40 - 215.24'], 'range_52': ['169.21 - 260.10'], 'volume': ['38,585,030'], 'avg_vol': ['53,038,719'], 'market_cap': ['3.194T'], 'beta': ['1.20'], 'pe_ratio': ['33.31'], 'eps': ['6.42'], 'one_year_est': ['230.62']}\n",
      "Specific value: ['213.76']\n",
      "Array length: 1\n",
      "===========================\n"
     ]
    }
   ],
   "source": [
    "# Debug print statements\n",
    "print(\"=== DEBUGGING HASH TABLE ===\")\n",
    "print(f\"Keys: {list(attr.keys())}\")\n",
    "print(f\"Values: {list(attr.values())}\")\n",
    "print(f\"Key-Value pairs: {attr}\")\n",
    "print(f\"Specific value: {attr['prev_close']}\")\n",
    "print(f\"Array length: {len(attr['prev_close'])}\")\n",
    "print(\"===========================\")"
   ]
  }
 ],
 "metadata": {
  "kernelspec": {
   "display_name": "Python 3",
   "language": "python",
   "name": "python3"
  },
  "language_info": {
   "codemirror_mode": {
    "name": "ipython",
    "version": 3
   },
   "file_extension": ".py",
   "mimetype": "text/x-python",
   "name": "python",
   "nbconvert_exporter": "python",
   "pygments_lexer": "ipython3",
   "version": "3.12.1"
  }
 },
 "nbformat": 4,
 "nbformat_minor": 5
}
