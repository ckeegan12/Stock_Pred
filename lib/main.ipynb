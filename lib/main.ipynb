{
 "cells": [
  {
   "cell_type": "code",
   "execution_count": null,
   "id": "08e17b55",
   "metadata": {},
   "outputs": [],
   "source": [
    "import requests\n",
    "import time\n",
    "import random\n",
    "from add_val import Add_Val\n",
    "from bs4 import BeautifulSoup\n",
    "import pandas as pd\n",
    "import numpy as np"
   ]
  },
  {
   "cell_type": "code",
   "execution_count": null,
   "id": "31f9d4d5",
   "metadata": {},
   "outputs": [],
   "source": [
    "# Initialize data frames\n",
    "prev_close = []\n",
    "open = []\n",
    "bid =[]\n",
    "ask = []\n",
    "day_range = []\n",
    "range_52 = []\n",
    "volume = []\n",
    "avg_vol = []\n",
    "market_cap = []\n",
    "beta = []\n",
    "pe_ratio = []\n",
    "eps = []\n",
    "one_year_est = []\n",
    "\n",
    "# Initialize hash table\n",
    "attr = {}\n",
    "\n",
    "# Initialize data extraction\n",
    "data_value_ext = Add_Val('data-value')\n",
    "text_ext = Add_Val('text')"
   ]
  },
  {
   "cell_type": "code",
   "execution_count": null,
   "id": "78fba2d2",
   "metadata": {},
   "outputs": [
    {
     "name": "stdout",
     "output_type": "stream",
     "text": [
      "Response status: 200\n",
      "Success! Value: 213.76\n"
     ]
    }
   ],
   "source": [
    "def scrape_date():\n",
    "    url = 'https://finance.yahoo.com/quote/AAPL/'\n",
    "    response = requests.get(url)\n",
    "    soup = BeautifulSoup(response.text, 'html.parser')\n",
    "\n",
    "    # header to avoid bot detection\n",
    "    headers = {\n",
    "        'User-Agent': 'Mozilla/5.0 (Windows NT 10.0; Win64; x64) AppleWebKit/537.36 (KHTML, like Gecko) Chrome/120.0.0.0 Safari/537.36',\n",
    "        'Accept': 'text/html,application/xhtml+xml,application/xml;q=0.9,image/webp,*/*;q=0.8',\n",
    "        'Accept-Language': 'en-US,en;q=0.5',\n",
    "        'Accept-Encoding': 'gzip, deflate',\n",
    "        'Connection': 'keep-alive',\n",
    "        'Upgrade-Insecure-Requests': '1',\n",
    "    }\n",
    "    \n",
    "    # Add delay to avoid rate limiting\n",
    "    time.sleep(random.uniform(1, 3))\n",
    "\n",
    "    try:\n",
    "        response = requests.get(url, headers=headers, timeout=10)\n",
    "        print(f\"Response status: {response.status_code}\")\n",
    "        \n",
    "        if response.status_code == 200:\n",
    "            # Get data elements from html parse\n",
    "            soup = BeautifulSoup(response.text, 'html.parser')\n",
    "            prev_close_element = soup.find('fin-streamer', {'data-field': 'regularMarketPreviousClose'})\n",
    "            open_element = soup.find('fin-streamer', {'data-field': 'regularMarketOpen'})\n",
    "            bid_element = soup.find('span', {'class': 'label yf-1b7pzha', 'title': 'Bid'})\n",
    "            ask_element = soup.find('span', {'class':'label yf-1b7pzha', 'title': 'Ask'})\n",
    "            day_range_element = soup.find('fin-streamer',{'data-field': 'regularMarketDayRange'})\n",
    "            range_52_element = soup.find('fin-streamer', {'data-field': 'fiftyTwoWeekRange'})\n",
    "            volume_element = soup.find('fin-streamer', {'data-field': 'regularMarketVolume'})\n",
    "            avg_vol_element = soup.find('fin-streamer', {'data-field': 'averageVolume'})\n",
    "            market_cap_element = soup.find('fin-streamer', {'data-field':'marketCap'})\n",
    "            beta_element = soup.find('span',{'class': 'label yf-1b7pzha', 'title': 'Beta (5Y Monthly)'})\n",
    "            pe_ratio_element = soup.find('fin-streamer', {'data-field': 'trailingPE', 'title': 'PE Ratio (TTM)'})\n",
    "            eps_element = soup.find('fin-streamer', {'data-field': 'trailingPE', 'title': 'EPS (TTM)'})\n",
    "            one_year_est_element = soup.find('fin-streamer', {'data-field': 'targetMeanPrice'})\n",
    "            \n",
    "            # get data value\n",
    "            data_value_ext.get_val(prev_close_element, 'prev_close', prev_close, attr)\n",
    "            data_value_ext.get_val(open_element, 'open', open, attr)\n",
    "            text_ext.get_val(bid_element, 'bid', bid, attr)\n",
    "            text_ext.get_val(ask_element, 'ask', ask, attr)\n",
    "            data_value_ext.get_val(day_range_element, 'day_range', day_range, attr)\n",
    "            data_value_ext.get_val(range_52_element, 'range_52', range_52, attr)\n",
    "            data_value_ext.get_val(volume_element, 'volume', volume, attr)\n",
    "            data_value_ext.get_val(avg_vol_element, 'avg_vol', avg_vol, attr)\n",
    "            data_value_ext.get_val(market_cap_element, 'market_cap', market_cap, attr)\n",
    "            text_ext.get_val(beta_element, 'beta', beta, attr)\n",
    "            data_value_ext.get_val(pe_ratio_element, 'pe_ratio', pe_ratio, attr)\n",
    "            data_value_ext.get_val(eps_element, 'eps', eps, attr)\n",
    "            data_value_ext.get_val(one_year_est_element, 'one_year_est', one_year_est, attr)\n",
    "\n",
    "        else:\n",
    "            print(f\"Request failed with status {response.status_code}\")\n",
    "            \n",
    "    except requests.exceptions.RequestException as e:\n",
    "        print(f\"Request error: {e}\")\n",
    "\n",
    "scrape_date()"
   ]
  },
  {
   "cell_type": "code",
   "execution_count": 19,
   "id": "a243414a",
   "metadata": {},
   "outputs": [
    {
     "name": "stdout",
     "output_type": "stream",
     "text": [
      "=== DEBUGGING HASH TABLE ===\n",
      "Keys: ['prev_close']\n",
      "Values: [['213.76']]\n",
      "Key-Value pairs: {'prev_close': ['213.76']}\n",
      "Specific value: ['213.76']\n",
      "Array length: 1\n",
      "===========================\n"
     ]
    }
   ],
   "source": [
    "# Debug print statements\n",
    "print(\"=== DEBUGGING HASH TABLE ===\")\n",
    "print(f\"Keys: {list(attr.keys())}\")\n",
    "print(f\"Values: {list(attr.values())}\")\n",
    "print(f\"Key-Value pairs: {attr}\")\n",
    "print(f\"Specific value: {attr['prev_close']}\")\n",
    "print(f\"Array length: {len(attr['prev_close'])}\")\n",
    "print(\"===========================\")"
   ]
  }
 ],
 "metadata": {
  "kernelspec": {
   "display_name": "Python 3",
   "language": "python",
   "name": "python3"
  },
  "language_info": {
   "codemirror_mode": {
    "name": "ipython",
    "version": 3
   },
   "file_extension": ".py",
   "mimetype": "text/x-python",
   "name": "python",
   "nbconvert_exporter": "python",
   "pygments_lexer": "ipython3",
   "version": "3.12.1"
  }
 },
 "nbformat": 4,
 "nbformat_minor": 5
}
