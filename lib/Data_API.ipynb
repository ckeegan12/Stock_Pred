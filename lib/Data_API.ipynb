{
 "cells": [
  {
   "cell_type": "code",
   "execution_count": null,
   "id": "f1cdabea",
   "metadata": {},
   "outputs": [],
   "source": [
    "import numpy as np\n",
    "import pandas as pb\n",
    "import requests\n",
    "import matplotlib\n",
    "import seaborn\n",
    "from keys import Rapid_API_Key"
   ]
  },
  {
   "cell_type": "code",
   "execution_count": 5,
   "id": "a0aae245",
   "metadata": {},
   "outputs": [
    {
     "name": "stdout",
     "output_type": "stream",
     "text": [
      "{'quoteSummary': {'result': [{'defaultKeyStatistics': {'maxAge': 1, 'priceHint': {'raw': 2, 'fmt': '2', 'longFmt': '2'}, 'enterpriseValue': {'raw': 996545396736, 'fmt': '996.55B', 'longFmt': '996,545,396,736'}, 'forwardPE': {'raw': 123.329895, 'fmt': '123.33'}, 'profitMargins': {'raw': 0.063439995, 'fmt': '6.34%'}, 'floatShares': {'raw': 2807075914, 'fmt': '2.81B', 'longFmt': '2,807,075,914'}, 'sharesOutstanding': {'raw': 3225449984, 'fmt': '3.23B', 'longFmt': '3,225,449,984'}, 'sharesShort': {'raw': 69962139, 'fmt': '69.96M', 'longFmt': '69,962,139'}, 'sharesShortPriorMonth': {'raw': 77096746, 'fmt': '77.1M', 'longFmt': '77,096,746'}, 'sharesShortPreviousMonthDate': {'raw': 1749772800, 'fmt': '2025-06-13'}, 'dateShortInterest': {'raw': 1752537600, 'fmt': '2025-07-15'}, 'sharesPercentSharesOut': {'raw': 0.0217, 'fmt': '2.17%'}, 'heldPercentInsiders': {'raw': 0.12874, 'fmt': '12.87%'}, 'heldPercentInstitutions': {'raw': 0.49915, 'fmt': '49.92%'}, 'shortRatio': {'raw': 0.69, 'fmt': '0.69'}, 'shortPercentOfFloat': {'raw': 0.0249, 'fmt': '2.49%'}, 'beta': {'raw': 2.398, 'fmt': '2.4'}, 'impliedSharesOutstanding': {'raw': 3225449984, 'fmt': '3.23B', 'longFmt': '3,225,449,984'}, 'morningStarOverallRating': {}, 'morningStarRiskRating': {}, 'category': None, 'bookValue': {'raw': 23.981, 'fmt': '23.98'}, 'priceToBook': {'raw': 13.1796, 'fmt': '13.18'}, 'annualReportExpenseRatio': {}, 'ytdReturn': {}, 'qtdReturn': {}, 'beta3Year': {}, 'totalAssets': {}, 'yield': {}, 'fundFamily': None, 'fundInceptionDate': {}, 'legalType': None, 'threeYearAverageReturn': {}, 'fiveYearAverageReturn': {}, 'priceToSalesTrailing12Months': {}, 'lastFiscalYearEnd': {'raw': 1735603200, 'fmt': '2024-12-31'}, 'nextFiscalYearEnd': {'raw': 1767139200, 'fmt': '2025-12-31'}, 'mostRecentQuarter': {'raw': 1751241600, 'fmt': '2025-06-30'}, 'earningsQuarterlyGrowth': {'raw': -0.163, 'fmt': '-16.30%'}, 'revenueQuarterlyGrowth': {}, 'netIncomeToCommon': {'raw': 5879000064, 'fmt': '5.88B', 'longFmt': '5,879,000,064'}, 'trailingEps': {'raw': 1.68, 'fmt': '1.68'}, 'forwardEps': {'raw': 3.24, 'fmt': '3.24'}, 'pegRatio': {}, 'lastSplitFactor': '3:1', 'lastSplitDate': {'raw': 1661385600, 'fmt': '2022-08-25'}, 'enterpriseToRevenue': {'raw': 10.748, 'fmt': '10.75'}, 'enterpriseToEbitda': {'raw': 87.832, 'fmt': '87.83'}, '52WeekChange': {'raw': 0.3617406, 'fmt': '36.17%'}, 'SandP52WeekChange': {'raw': 0.16932249, 'fmt': '16.93%'}, 'lastDividendValue': {}, 'lastDividendDate': {}, 'lastCapGain': {}, 'annualHoldingsTurnover': {}, 'latestFundingDate': {}, 'latestAmountRaised': {}, 'latestImpliedValuation': {}, 'latestShareClass': None, 'leadInvestor': None, 'fundingToDate': {}, 'totalFundingRounds': {}}}], 'error': None}}\n"
     ]
    }
   ],
   "source": [
    "# improt TSLA stock stats from Rapid API\n",
    "\n",
    "url = \"https://apidojo-yahoo-finance-v1.p.rapidapi.com/stock/v4/get-statistics\"\n",
    "\n",
    "querystring = {\"symbol\":\"TSLA\",\"region\":\"US\",\"lang\":\"en-US\"}\n",
    "\n",
    "headers = {\n",
    "\t\"x-rapidapi-key\": \"",
    "\t\"x-rapidapi-host\": \"apidojo-yahoo-finance-v1.p.rapidapi.com\"\n",
    "}\n",
    "\n",
    "response = requests.get(url, headers=headers, params=querystring)\n",
    "\n",
    "print(response.json())"
   ]
  },
  {
   "cell_type": "code",
   "execution_count": null,
   "id": "1ace5fb2",
   "metadata": {},
   "outputs": [],
   "source": []
  }
 ],
 "metadata": {
  "kernelspec": {
   "display_name": "Python 3",
   "language": "python",
   "name": "python3"
  },
  "language_info": {
   "codemirror_mode": {
    "name": "ipython",
    "version": 3
   },
   "file_extension": ".py",
   "mimetype": "text/x-python",
   "name": "python",
   "nbconvert_exporter": "python",
   "pygments_lexer": "ipython3",
   "version": "3.12.1"
  }
 },
 "nbformat": 4,
 "nbformat_minor": 5
}
